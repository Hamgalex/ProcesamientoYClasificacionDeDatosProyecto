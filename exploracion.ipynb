{
 "cells": [
  {
   "cell_type": "code",
   "execution_count": 3,
   "id": "05490b44",
   "metadata": {},
   "outputs": [],
   "source": [
    "import os\n",
    "import pandas as pd\n",
    "import matplotlib.pyplot as plt\n",
    "import seaborn as sns"
   ]
  },
  {
   "cell_type": "code",
   "execution_count": 7,
   "id": "402b2823",
   "metadata": {},
   "outputs": [],
   "source": [
    "def contar_clases_en_particion(root_path, partition_name):\n",
    "    \"\"\"\n",
    "    Cuenta cuántas imágenes válidas hay en cada clase dentro de una partición.\n",
    "    Solo cuenta archivos .png, .jpg y .jpeg\n",
    "    \"\"\"\n",
    "    part_path = os.path.join(root_path, partition_name)\n",
    "    clases = [\"fractured\", \"not fractured\"]  # 👈 nombres reales de tus carpetas\n",
    "    extensiones_validas = (\".png\", \".jpg\", \".jpeg\")\n",
    "    conteos = {}\n",
    "    \n",
    "    for cls in clases:\n",
    "        cls_path = os.path.join(part_path, cls)\n",
    "        if os.path.isdir(cls_path):\n",
    "            archivos = [\n",
    "                f for f in os.listdir(cls_path)\n",
    "                if os.path.isfile(os.path.join(cls_path, f))\n",
    "                and f.lower().endswith(extensiones_validas)\n",
    "            ]\n",
    "            conteos[cls] = len(archivos)\n",
    "        else:\n",
    "            conteos[cls] = 0\n",
    "    return conteos\n",
    "\n",
    "\n",
    "def analizar_dataset(root_path):\n",
    "    \"\"\"\n",
    "    Analiza todas las particiones (train, val, test) del dataset.\n",
    "    Retorna un diccionario con conteos totales y proporciones.\n",
    "    \"\"\"\n",
    "    particiones = [\"train\", \"val\", \"test\"]\n",
    "    resumen = {}\n",
    "    for part in particiones:\n",
    "        conteos = contar_clases_en_particion(root_path, part)\n",
    "        total = sum(conteos.values())\n",
    "        if total > 0:\n",
    "            proporciones = {cls: conteos[cls] / total for cls in conteos}\n",
    "        else:\n",
    "            proporciones = {cls: 0 for cls in conteos}\n",
    "        resumen[part] = {\n",
    "            \"conteos\": conteos,\n",
    "            \"total\": total,\n",
    "            \"proporciones\": proporciones\n",
    "        }\n",
    "    return resumen"
   ]
  },
  {
   "cell_type": "code",
   "execution_count": 13,
   "id": "7e14007a",
   "metadata": {},
   "outputs": [],
   "source": [
    "ruta_dataset = r\"C:/Users/hamga/Documents/repo/ProcesamientoYClasificacionDeDatosProyecto/Bone_Fracture_Binary_Classification\""
   ]
  },
  {
   "cell_type": "code",
   "execution_count": 16,
   "id": "4de1e8d1",
   "metadata": {},
   "outputs": [
    {
     "name": "stdout",
     "output_type": "stream",
     "text": [
      "Partición: train\n",
      "--Total imágenes: 9246\n",
      "   fractured: 4606 imágenes — proporción: 49.82%\n",
      "   not fractured: 4640 imágenes — proporción: 50.18%\n",
      "\n",
      "Partición: val\n",
      "--Total imágenes: 829\n",
      "   fractured: 337 imágenes — proporción: 40.65%\n",
      "   not fractured: 492 imágenes — proporción: 59.35%\n",
      "\n",
      "Partición: test\n",
      "--Total imágenes: 506\n",
      "   fractured: 238 imágenes — proporción: 47.04%\n",
      "   not fractured: 268 imágenes — proporción: 52.96%\n",
      "\n"
     ]
    }
   ],
   "source": [
    "resumen = analizar_dataset(ruta_dataset)\n",
    "\n",
    "for part, info in resumen.items():\n",
    "    print(f\"Partición: {part}\")\n",
    "    print(f\"--Total imágenes: {info['total']}\")\n",
    "    for cls, cnt in info[\"conteos\"].items():\n",
    "        prop = info[\"proporciones\"][cls]\n",
    "        print(f\"   {cls}: {cnt} imágenes — proporción: {prop:.2%}\")\n",
    "    print()"
   ]
  },
  {
   "cell_type": "code",
   "execution_count": 15,
   "id": "c234b4e8",
   "metadata": {},
   "outputs": [
    {
     "data": {
      "text/html": [
       "<div>\n",
       "<style scoped>\n",
       "    .dataframe tbody tr th:only-of-type {\n",
       "        vertical-align: middle;\n",
       "    }\n",
       "\n",
       "    .dataframe tbody tr th {\n",
       "        vertical-align: top;\n",
       "    }\n",
       "\n",
       "    .dataframe thead th {\n",
       "        text-align: right;\n",
       "    }\n",
       "</style>\n",
       "<table border=\"1\" class=\"dataframe\">\n",
       "  <thead>\n",
       "    <tr style=\"text-align: right;\">\n",
       "      <th></th>\n",
       "      <th>Partición</th>\n",
       "      <th>Clase</th>\n",
       "      <th>Conteo</th>\n",
       "      <th>Proporción</th>\n",
       "    </tr>\n",
       "  </thead>\n",
       "  <tbody>\n",
       "    <tr>\n",
       "      <th>0</th>\n",
       "      <td>train</td>\n",
       "      <td>fractured</td>\n",
       "      <td>4606</td>\n",
       "      <td>0.498161</td>\n",
       "    </tr>\n",
       "    <tr>\n",
       "      <th>1</th>\n",
       "      <td>train</td>\n",
       "      <td>not fractured</td>\n",
       "      <td>4640</td>\n",
       "      <td>0.501839</td>\n",
       "    </tr>\n",
       "    <tr>\n",
       "      <th>2</th>\n",
       "      <td>val</td>\n",
       "      <td>fractured</td>\n",
       "      <td>337</td>\n",
       "      <td>0.406514</td>\n",
       "    </tr>\n",
       "    <tr>\n",
       "      <th>3</th>\n",
       "      <td>val</td>\n",
       "      <td>not fractured</td>\n",
       "      <td>492</td>\n",
       "      <td>0.593486</td>\n",
       "    </tr>\n",
       "    <tr>\n",
       "      <th>4</th>\n",
       "      <td>test</td>\n",
       "      <td>fractured</td>\n",
       "      <td>238</td>\n",
       "      <td>0.470356</td>\n",
       "    </tr>\n",
       "    <tr>\n",
       "      <th>5</th>\n",
       "      <td>test</td>\n",
       "      <td>not fractured</td>\n",
       "      <td>268</td>\n",
       "      <td>0.529644</td>\n",
       "    </tr>\n",
       "  </tbody>\n",
       "</table>\n",
       "</div>"
      ],
      "text/plain": [
       "  Partición          Clase  Conteo  Proporción\n",
       "0     train      fractured    4606    0.498161\n",
       "1     train  not fractured    4640    0.501839\n",
       "2       val      fractured     337    0.406514\n",
       "3       val  not fractured     492    0.593486\n",
       "4      test      fractured     238    0.470356\n",
       "5      test  not fractured     268    0.529644"
      ]
     },
     "execution_count": 15,
     "metadata": {},
     "output_type": "execute_result"
    }
   ],
   "source": [
    "rows = []\n",
    "for part, info in resumen.items():\n",
    "    for cls, cnt in info[\"conteos\"].items():\n",
    "        rows.append({\n",
    "            \"Partición\": part,\n",
    "            \"Clase\": cls,\n",
    "            \"Conteo\": cnt,\n",
    "            \"Proporción\": info[\"proporciones\"][cls]\n",
    "        })\n",
    "\n",
    "df_resumen = pd.DataFrame(rows)\n",
    "df_resumen"
   ]
  },
  {
   "cell_type": "code",
   "execution_count": 20,
   "id": "88b49f2e",
   "metadata": {},
   "outputs": [
    {
     "data": {
      "image/png": "[encoded data removed]",
      "text/plain": [
       "<Figure size 640x480 with 1 Axes>"
      ]
     },
     "metadata": {},
     "output_type": "display_data"
    }
   ],
   "source": [
    "sns.barplot(data=df_resumen, x=\"Partición\", y=\"Conteo\", hue=\"Clase\")\n",
    "plt.title(\"Distribucion de imagenes por clase y particion\")\n",
    "plt.tight_layout()\n",
    "plt.show()"
   ]
  }
 ],
 "metadata": {
  "kernelspec": {
   "display_name": "Python 3",
   "language": "python",
   "name": "python3"
  },
  "language_info": {
   "codemirror_mode": {
    "name": "ipython",
    "version": 3
   },
   "file_extension": ".py",
   "mimetype": "text/x-python",
   "name": "python",
   "nbconvert_exporter": "python",
   "pygments_lexer": "ipython3",
   "version": "3.11.4"
  }
 },
 "nbformat": 4,
 "nbformat_minor": 5
}
